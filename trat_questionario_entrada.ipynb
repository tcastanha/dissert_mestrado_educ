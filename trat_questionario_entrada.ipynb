{
 "cells": [
  {
   "cell_type": "code",
   "execution_count": null,
   "id": "c7f47c09",
   "metadata": {},
   "outputs": [],
   "source": [
    "import pandas as pd\n",
    "import re\n",
    "from collections import Counter\n",
    "from sklearn.feature_extraction.text import TfidfVectorizer\n",
    "from sklearn.cluster import KMeans\n",
    "from sklearn.metrics.pairwise import cosine_similarity\n",
    "import matplotlib.pyplot as plt\n",
    "from wordcloud import WordCloud\n",
    "import networkx as nx"
   ]
  },
  {
   "cell_type": "code",
   "execution_count": null,
   "id": "349d3260",
   "metadata": {},
   "outputs": [],
   "source": [
    "#Esse código realiza as seguintes etapas:\n",
    "#Limpeza de texto com remoção de stop words\n",
    "#Análise de frequência para identificar as palavras mais comuns\n",
    "#Geração de nuvem de palavras para visualização das frequências\n",
    "#Agrupamento de respostas similares (análise de clusters) com KMeans\n",
    "#Análise de similitude e criação de redes semânticas com base nas co-ocorrências ajustadas.\n",
    "#Cada etapa foi personalizada para simplificar a análise e realçar os principais padrões nas respostas.\n",
    "\n",
    "# Função de limpeza de texto com stop words adicionais\n",
    "basic_stop_words = {\n",
    "    \"a\", \"e\", \"o\", \"que\", \"de\", \"do\", \"da\", \"em\", \"um\", \"uma\", \"para\", \"é\", \"no\", \"com\", \"por\", \"não\", \"como\",\n",
    "    \"na\", \"se\", \"os\", \"ou\", \"ao\", \"dos\", \"as\", \"mas\", \"meu\", \"sua\", \"mais\", \"já\", \"mesmo\", \"assim\", \"qual\",\n",
    "    \"nos\", \"também\", \"então\", \"isso\", \"seu”\n",
    "}\n",
    "\n",
    "def clean_text(text):\n",
    "    # Lowercase, remove non-alphabetic characters, remove stop words\n",
    "    text = re.sub(r'[^a-zA-ZáéíóúâêîôûãõçÁÉÍÓÚÂÊÎÔÛÃÕÇ\\s]', '', text.lower())\n",
    "    for stop_word in basic_stop_words:\n",
    "        text = re.sub(r'\\b' + stop_word + r'\\b', '', text)\n",
    "    return re.sub(r'\\s+', ' ', text).strip()"
   ]
  },
  {
   "cell_type": "code",
   "execution_count": null,
   "id": "7417d70a",
   "metadata": {},
   "outputs": [],
   "source": [
    "# Carregar e limpar os dados\n",
    "file_path = '/mnt/data/respostas_sem_ident.xlsx'\n",
    "data = pd.read_excel(file_path)\n",
    "open_ended_columns = [\n",
    "    \"Fala pra gente um pouco da razão pela qual você quer fazer parte do programa cultura\",\n",
    "    \"Expectativas. Por definição, expectativa é aquilo que a gente coloca no outro. Quais são suas expectativas em relação ao programa? O que o programa cultura pode fazer por você? O que você espera d...\",\n",
    "    \"Intenção. Diferente da expectativa, intenção é aquilo que está em nós mesmos. Quais são suas intenções? O que você trará para o programa? Quais compromissos você assume?\",\n",
    "    \"Pra você, o que é inovação?\"\n",
    "]\n",
    "for col in open_ended_columns:\n",
    "    data[col + \"_cleaned\"] = data[col].astype(str).apply(clean_text)"
   ]
  },
  {
   "cell_type": "code",
   "execution_count": null,
   "id": "de351bdd",
   "metadata": {},
   "outputs": [],
   "source": [
    "# Análise de Frequência\n",
    "word_frequencies = {col: Counter(' '.join(data[col + \"_cleaned\"]).split()) for col in open_ended_columns}\n",
    "word_frequencies_summary = {col: freq.most_common(10) for col, freq in word_frequencies.items()}"
   ]
  },
  {
   "cell_type": "code",
   "execution_count": null,
   "id": "8a820f45",
   "metadata": {},
   "outputs": [],
   "source": [
    "# Nuvem de Palavras\n",
    "for col in open_ended_columns:\n",
    "    wordcloud = WordCloud(width=800, height=400, background_color=\"white\").generate_from_frequencies(word_frequencies[col])\n",
    "    plt.figure(figsize=(10, 5))\n",
    "    plt.imshow(wordcloud, interpolation='bilinear')\n",
    "    plt.title(f\"Nuvem de Palavras: {col}\", fontsize=14)\n",
    "    plt.axis(\"off\")\n",
    "    plt.show()"
   ]
  },
  {
   "cell_type": "code",
   "execution_count": null,
   "id": "14e3b8c2",
   "metadata": {},
   "outputs": [],
   "source": [
    "# Análise de Clusters\n",
    "def cluster_responses(column_cleaned, num_clusters=5):\n",
    "    vectorizer = TfidfVectorizer()\n",
    "    X = vectorizer.fit_transform(data[column_cleaned].dropna())\n",
    "    kmeans = KMeans(n_clusters=num_clusters, random_state=0).fit(X)\n",
    "    return kmeans.labels_\n",
    "\n",
    "for col in open_ended_columns:\n",
    "    data[col + \"_cluster\"] = cluster_responses(col + \"_cleaned\")"
   ]
  },
  {
   "cell_type": "code",
   "execution_count": null,
   "id": "5c84ec5e",
   "metadata": {},
   "outputs": [],
   "source": [
    "# Análise de Similitude e Rede Semântica Ajustada\n",
    "higher_threshold = 0.3\n",
    "for col in open_ended_columns:\n",
    "    vectorizer = TfidfVectorizer(max_features=50)  # Limita a 50 termos\n",
    "    X = vectorizer.fit_transform(data[col + \"_cleaned\"].dropna())\n",
    "    co_occurrence_matrix = cosine_similarity(X.T)\n",
    "    terms = vectorizer.get_feature_names_out()\n",
    "    \n",
    "    # Construir rede semântica\n",
    "    G = nx.Graph()\n",
    "    for i in range(len(terms)):\n",
    "        for j in range(i + 1, len(terms)):\n",
    "            if co_occurrence_matrix[i, j] > higher_threshold:\n",
    "                G.add_edge(terms[i], terms[j], weight=co_occurrence_matrix[i, j])\n",
    "    \n",
    "    # Exibir a rede\n",
    "    plt.figure(figsize=(10, 10))\n",
    "    pos = nx.spring_layout(G, k=0.5)\n",
    "    nx.draw(G, pos, with_labels=True, node_size=20, font_size=10, edge_color=\"gray\")\n",
    "    plt.title(f\"Rede Semântica Ajustada: {col}\", fontsize=14)\n",
    "    plt.show()"
   ]
  }
 ],
 "metadata": {
  "kernelspec": {
   "display_name": "Python 3 (ipykernel)",
   "language": "python",
   "name": "python3"
  },
  "language_info": {
   "codemirror_mode": {
    "name": "ipython",
    "version": 3
   },
   "file_extension": ".py",
   "mimetype": "text/x-python",
   "name": "python",
   "nbconvert_exporter": "python",
   "pygments_lexer": "ipython3",
   "version": "3.10.9"
  }
 },
 "nbformat": 4,
 "nbformat_minor": 5
}
